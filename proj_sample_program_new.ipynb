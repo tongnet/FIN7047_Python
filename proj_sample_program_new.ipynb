{
  "nbformat": 4,
  "nbformat_minor": 0,
  "metadata": {
    "colab": {
      "provenance": [],
      "toc_visible": true,
      "authorship_tag": "ABX9TyNJ/kzyrSk0CpmQlTwYFrIZ",
      "include_colab_link": true
    },
    "kernelspec": {
      "name": "python3",
      "display_name": "Python 3"
    },
    "language_info": {
      "name": "python"
    }
  },
  "cells": [
    {
      "cell_type": "markdown",
      "metadata": {
        "id": "view-in-github",
        "colab_type": "text"
      },
      "source": [
        "<a href=\"https://colab.research.google.com/github/tongnet/FIN7047_Python/blob/main/proj_sample_program_new.ipynb\" target=\"_parent\"><img src=\"https://colab.research.google.com/assets/colab-badge.svg\" alt=\"Open In Colab\"/></a>"
      ]
    },
    {
      "cell_type": "code",
      "execution_count": null,
      "metadata": {
        "colab": {
          "base_uri": "https://localhost:8080/"
        },
        "id": "rdsxnrVDCtSW",
        "outputId": "df3d5e9b-7141-4e0f-fc01-c7da67264c3c"
      },
      "outputs": [
        {
          "output_type": "stream",
          "name": "stdout",
          "text": [
            "Requirement already satisfied: yfinance in /usr/local/lib/python3.11/dist-packages (0.2.52)\n",
            "Collecting yfinance\n",
            "  Downloading yfinance-0.2.54-py2.py3-none-any.whl.metadata (5.8 kB)\n",
            "Requirement already satisfied: pandas>=1.3.0 in /usr/local/lib/python3.11/dist-packages (from yfinance) (2.2.2)\n",
            "Requirement already satisfied: numpy>=1.16.5 in /usr/local/lib/python3.11/dist-packages (from yfinance) (1.26.4)\n",
            "Requirement already satisfied: requests>=2.31 in /usr/local/lib/python3.11/dist-packages (from yfinance) (2.32.3)\n",
            "Requirement already satisfied: multitasking>=0.0.7 in /usr/local/lib/python3.11/dist-packages (from yfinance) (0.0.11)\n",
            "Requirement already satisfied: platformdirs>=2.0.0 in /usr/local/lib/python3.11/dist-packages (from yfinance) (4.3.6)\n",
            "Requirement already satisfied: pytz>=2022.5 in /usr/local/lib/python3.11/dist-packages (from yfinance) (2025.1)\n",
            "Requirement already satisfied: frozendict>=2.3.4 in /usr/local/lib/python3.11/dist-packages (from yfinance) (2.4.6)\n",
            "Requirement already satisfied: peewee>=3.16.2 in /usr/local/lib/python3.11/dist-packages (from yfinance) (3.17.9)\n",
            "Requirement already satisfied: beautifulsoup4>=4.11.1 in /usr/local/lib/python3.11/dist-packages (from yfinance) (4.13.3)\n",
            "Requirement already satisfied: soupsieve>1.2 in /usr/local/lib/python3.11/dist-packages (from beautifulsoup4>=4.11.1->yfinance) (2.6)\n",
            "Requirement already satisfied: typing-extensions>=4.0.0 in /usr/local/lib/python3.11/dist-packages (from beautifulsoup4>=4.11.1->yfinance) (4.12.2)\n",
            "Requirement already satisfied: python-dateutil>=2.8.2 in /usr/local/lib/python3.11/dist-packages (from pandas>=1.3.0->yfinance) (2.8.2)\n",
            "Requirement already satisfied: tzdata>=2022.7 in /usr/local/lib/python3.11/dist-packages (from pandas>=1.3.0->yfinance) (2025.1)\n",
            "Requirement already satisfied: charset-normalizer<4,>=2 in /usr/local/lib/python3.11/dist-packages (from requests>=2.31->yfinance) (3.4.1)\n",
            "Requirement already satisfied: idna<4,>=2.5 in /usr/local/lib/python3.11/dist-packages (from requests>=2.31->yfinance) (3.10)\n",
            "Requirement already satisfied: urllib3<3,>=1.21.1 in /usr/local/lib/python3.11/dist-packages (from requests>=2.31->yfinance) (2.3.0)\n",
            "Requirement already satisfied: certifi>=2017.4.17 in /usr/local/lib/python3.11/dist-packages (from requests>=2.31->yfinance) (2025.1.31)\n",
            "Requirement already satisfied: six>=1.5 in /usr/local/lib/python3.11/dist-packages (from python-dateutil>=2.8.2->pandas>=1.3.0->yfinance) (1.17.0)\n",
            "Downloading yfinance-0.2.54-py2.py3-none-any.whl (108 kB)\n",
            "\u001b[2K   \u001b[90m━━━━━━━━━━━━━━━━━━━━━━━━━━━━━━━━━━━━━━━━\u001b[0m \u001b[32m108.7/108.7 kB\u001b[0m \u001b[31m4.2 MB/s\u001b[0m eta \u001b[36m0:00:00\u001b[0m\n",
            "\u001b[?25hInstalling collected packages: yfinance\n",
            "  Attempting uninstall: yfinance\n",
            "    Found existing installation: yfinance 0.2.52\n",
            "    Uninstalling yfinance-0.2.52:\n",
            "      Successfully uninstalled yfinance-0.2.52\n",
            "Successfully installed yfinance-0.2.54\n",
            "Downloading data for BTC-USD...\n",
            "YF.download() has changed argument auto_adjust default to True\n"
          ]
        },
        {
          "output_type": "stream",
          "name": "stderr",
          "text": [
            "[*********************100%***********************]  1 of 1 completed\n",
            "[*********************100%***********************]  1 of 1 completed"
          ]
        },
        {
          "output_type": "stream",
          "name": "stdout",
          "text": [
            "Downloading data for ETH-USD...\n"
          ]
        },
        {
          "output_type": "stream",
          "name": "stderr",
          "text": [
            "\n"
          ]
        },
        {
          "output_type": "stream",
          "name": "stdout",
          "text": [
            "Downloading data for XRP-USD...\n"
          ]
        },
        {
          "output_type": "stream",
          "name": "stderr",
          "text": [
            "\r[*********************100%***********************]  1 of 1 completed\n"
          ]
        },
        {
          "output_type": "stream",
          "name": "stdout",
          "text": [
            "                BTC-USD                                                      \\\n",
            "Price             Close         High          Low         Open       Volume   \n",
            "Ticker          BTC-USD      BTC-USD      BTC-USD      BTC-USD      BTC-USD   \n",
            "Date                                                                          \n",
            "2020-01-01  7200.174316  7254.330566  7174.944336  7194.892090  18565664997   \n",
            "2020-01-02  6985.470215  7212.155273  6935.270020  7202.551270  20802083465   \n",
            "2020-01-03  7344.884277  7413.715332  6914.996094  6984.428711  28111481032   \n",
            "2020-01-04  7410.656738  7427.385742  7309.514160  7345.375488  18444271275   \n",
            "2020-01-05  7411.317383  7544.497070  7400.535645  7410.451660  19725074095   \n",
            "\n",
            "               ETH-USD                                                   \\\n",
            "Price            Close        High         Low        Open       Volume   \n",
            "Ticker         ETH-USD     ETH-USD     ETH-USD     ETH-USD      ETH-USD   \n",
            "Date                                                                      \n",
            "2020-01-01  130.802002  132.835358  129.198288  129.630661   7935230330   \n",
            "2020-01-02  127.410179  130.820038  126.954910  130.820038   8032709256   \n",
            "2020-01-03  134.171707  134.554016  126.490021  127.411263  10476845358   \n",
            "2020-01-04  135.069366  136.052719  133.040558  134.168518   7430904515   \n",
            "2020-01-05  136.276779  139.410202  135.045624  135.072098   7526675353   \n",
            "\n",
            "             XRP-USD                                            \n",
            "Price          Close      High       Low      Open      Volume  \n",
            "Ticker       XRP-USD   XRP-USD   XRP-USD   XRP-USD     XRP-USD  \n",
            "Date                                                            \n",
            "2020-01-01  0.192667  0.194362  0.192107  0.192912  1041134003  \n",
            "2020-01-02  0.188043  0.192896  0.186947  0.192708  1085351426  \n",
            "2020-01-03  0.193521  0.194070  0.185846  0.187948  1270017043  \n",
            "2020-01-04  0.194355  0.194653  0.191835  0.193521   999331594  \n",
            "2020-01-05  0.195537  0.199223  0.193884  0.194367  1168067557  \n"
          ]
        }
      ],
      "source": [
        "!pip install --upgrade yfinance\n",
        "import yfinance as yf\n",
        "import pandas as pd\n",
        "import time\n",
        "# Define tickers\n",
        "tickers = ['BTC-USD','ETH-USD','XRP-USD']\n",
        "data = {}\n",
        "for ticker in tickers:\n",
        "    try:\n",
        "        print(f\"Downloading data for {ticker}...\")\n",
        "        df = yf.download(ticker, start='2020-01-01', end='2024-12-31')\n",
        "        data[ticker] = df\n",
        "        time.sleep(2)  # Add a delay to prevent rate limits\n",
        "    except Exception as e:\n",
        "        print(f\"Failed to download {ticker}: {e}\")\n",
        "# Combine data into a single DataFrame\n",
        "combined_data = pd.concat(data.values(), keys=data.keys(), axis=1)\n",
        "print(combined_data.head())\n",
        "# Save to CSV\n",
        "combined_data.to_csv('crypto_prices.csv')"
      ]
    },
    {
      "cell_type": "code",
      "source": [
        "!pip install --upgrade yfinance\n",
        "import yfinance as yf\n",
        "import pandas as pd\n",
        "import numpy as np\n",
        "import time\n",
        "# Define tickers\n",
        "tickers = ['BTC-USD', 'ETH-USD', 'XRP-USD']\n",
        "data = {}\n",
        "for ticker in tickers:\n",
        "    try:\n",
        "        print(f\"Downloading data for {ticker}...\")\n",
        "        df = yf.download(ticker, start='2020-01-01', end='2024-01-01')['Close']\n",
        "        data[ticker] = df\n",
        "        time.sleep(2)  # Add a delay to prevent rate limits\n",
        "    except Exception as e:\n",
        "        print(f\"Failed to download {ticker}: {e}\")\n",
        "# Combine data into a single DataFrame\n",
        "combined_data = pd.concat(data.values(), keys=data.keys(), axis=1)\n",
        "print(combined_data.head())\n",
        "# Save to CSV\n",
        "combined_data.to_csv('crypto_prices.csv')\n",
        "\n",
        "# Define the portfolio assets and initial investment\n",
        "\n",
        "initial_investment = 2000000\n",
        "\n",
        "# Define initial portfolio weights: 50% BTC, 30% ETH, 20% XRP\n",
        "allocations = np.array([0.5, 0.3, 0.2]) * initial_investment\n",
        "\n",
        "# Fetch historical data\n",
        "\n",
        "# Calculate daily returns\n",
        "daily_returns = combined_data.pct_change().dropna()\n",
        "\n",
        "# Compute portfolio daily returns (flexible allocation)\n",
        "weights = allocations / allocations.sum()\n",
        "portfolio_daily_returns = daily_returns @ weights  #The @ operator in Python is the matrix multiplication (dot product) operator\n",
        "\n",
        "# Compute total return\n",
        "initial_prices = combined_data.iloc[0]\n",
        "final_prices = combined_data.iloc[-1]\n",
        "\n",
        "# Compute final portfolio value\n",
        "final_value = (final_prices / initial_prices) * allocations\n",
        "ending_balance = final_value.sum()\n",
        "\n",
        "# Compute average daily return\n",
        "avg_daily_return = portfolio_daily_returns.mean()\n",
        "\n",
        "# Compute annualized standard deviation\n",
        "annual_std_dev = portfolio_daily_returns.std() * np.sqrt(365)\n",
        "\n",
        "# Compute Sharpe Ratio (assuming risk-free rate = 0)\n",
        "sharpe_ratio = avg_daily_return * 365 / annual_std_dev\n",
        "\n",
        "# Print results\n",
        "print(f\"Ending Balance: ${ending_balance:,.2f}\")\n",
        "print(f\"Average Daily Return: {avg_daily_return:.6f}\")\n",
        "print(f\"Annual Standard Deviation: {annual_std_dev:.6f}\")\n",
        "print(f\"Annual Sharpe Ratio: {sharpe_ratio:.2f}\")\n"
      ],
      "metadata": {
        "colab": {
          "base_uri": "https://localhost:8080/"
        },
        "id": "gq4eVqUywfR1",
        "outputId": "93cdbb82-90c1-46fc-fc67-9a4849a173e4"
      },
      "execution_count": null,
      "outputs": [
        {
          "output_type": "stream",
          "name": "stdout",
          "text": [
            "Requirement already satisfied: yfinance in /usr/local/lib/python3.11/dist-packages (0.2.54)\n",
            "Requirement already satisfied: pandas>=1.3.0 in /usr/local/lib/python3.11/dist-packages (from yfinance) (2.2.2)\n",
            "Requirement already satisfied: numpy>=1.16.5 in /usr/local/lib/python3.11/dist-packages (from yfinance) (1.26.4)\n",
            "Requirement already satisfied: requests>=2.31 in /usr/local/lib/python3.11/dist-packages (from yfinance) (2.32.3)\n",
            "Requirement already satisfied: multitasking>=0.0.7 in /usr/local/lib/python3.11/dist-packages (from yfinance) (0.0.11)\n",
            "Requirement already satisfied: platformdirs>=2.0.0 in /usr/local/lib/python3.11/dist-packages (from yfinance) (4.3.6)\n",
            "Requirement already satisfied: pytz>=2022.5 in /usr/local/lib/python3.11/dist-packages (from yfinance) (2025.1)\n",
            "Requirement already satisfied: frozendict>=2.3.4 in /usr/local/lib/python3.11/dist-packages (from yfinance) (2.4.6)\n",
            "Requirement already satisfied: peewee>=3.16.2 in /usr/local/lib/python3.11/dist-packages (from yfinance) (3.17.9)\n",
            "Requirement already satisfied: beautifulsoup4>=4.11.1 in /usr/local/lib/python3.11/dist-packages (from yfinance) (4.13.3)\n",
            "Requirement already satisfied: soupsieve>1.2 in /usr/local/lib/python3.11/dist-packages (from beautifulsoup4>=4.11.1->yfinance) (2.6)\n",
            "Requirement already satisfied: typing-extensions>=4.0.0 in /usr/local/lib/python3.11/dist-packages (from beautifulsoup4>=4.11.1->yfinance) (4.12.2)\n",
            "Requirement already satisfied: python-dateutil>=2.8.2 in /usr/local/lib/python3.11/dist-packages (from pandas>=1.3.0->yfinance) (2.8.2)\n",
            "Requirement already satisfied: tzdata>=2022.7 in /usr/local/lib/python3.11/dist-packages (from pandas>=1.3.0->yfinance) (2025.1)\n",
            "Requirement already satisfied: charset-normalizer<4,>=2 in /usr/local/lib/python3.11/dist-packages (from requests>=2.31->yfinance) (3.4.1)\n",
            "Requirement already satisfied: idna<4,>=2.5 in /usr/local/lib/python3.11/dist-packages (from requests>=2.31->yfinance) (3.10)\n",
            "Requirement already satisfied: urllib3<3,>=1.21.1 in /usr/local/lib/python3.11/dist-packages (from requests>=2.31->yfinance) (2.3.0)\n",
            "Requirement already satisfied: certifi>=2017.4.17 in /usr/local/lib/python3.11/dist-packages (from requests>=2.31->yfinance) (2025.1.31)\n",
            "Requirement already satisfied: six>=1.5 in /usr/local/lib/python3.11/dist-packages (from python-dateutil>=2.8.2->pandas>=1.3.0->yfinance) (1.17.0)\n"
          ]
        },
        {
          "output_type": "stream",
          "name": "stderr",
          "text": [
            "\r[*********************100%***********************]  1 of 1 completed"
          ]
        },
        {
          "output_type": "stream",
          "name": "stdout",
          "text": [
            "Downloading data for BTC-USD...\n"
          ]
        },
        {
          "output_type": "stream",
          "name": "stderr",
          "text": [
            "\n",
            "[*********************100%***********************]  1 of 1 completed"
          ]
        },
        {
          "output_type": "stream",
          "name": "stdout",
          "text": [
            "Downloading data for ETH-USD...\n"
          ]
        },
        {
          "output_type": "stream",
          "name": "stderr",
          "text": [
            "\n",
            "[*********************100%***********************]  1 of 1 completed"
          ]
        },
        {
          "output_type": "stream",
          "name": "stdout",
          "text": [
            "Downloading data for XRP-USD...\n"
          ]
        },
        {
          "output_type": "stream",
          "name": "stderr",
          "text": [
            "\n"
          ]
        },
        {
          "output_type": "stream",
          "name": "stdout",
          "text": [
            "                BTC-USD     ETH-USD   XRP-USD\n",
            "Ticker          BTC-USD     ETH-USD   XRP-USD\n",
            "Date                                         \n",
            "2020-01-01  7200.174316  130.802002  0.192667\n",
            "2020-01-02  6985.470215  127.410179  0.188043\n",
            "2020-01-03  7344.884277  134.171707  0.193521\n",
            "2020-01-04  7410.656738  135.069366  0.194355\n",
            "2020-01-05  7411.317383  136.276779  0.195537\n",
            "Ending Balance: $17,612,018.68\n",
            "Average Daily Return: 0.002322\n",
            "Annual Standard Deviation: 0.727100\n",
            "Annual Sharpe Ratio: 1.17\n"
          ]
        }
      ]
    },
    {
      "cell_type": "code",
      "source": [
        "import pandas as pd\n",
        "import numpy as np\n",
        "import yfinance as yf\n",
        "import time\n",
        "\n",
        "# ✅ Download Bitcoin historical data from Yahoo Finance\n",
        "ticker = 'BTC-USD'\n",
        "try:\n",
        "    print(f\"Downloading data for {ticker}...\")\n",
        "    btc_data = yf.download(ticker, start=\"2020-01-01\", end=\"2024-12-31\")[['Close']]  # Keep 'Close' as DataFrame\n",
        "    time.sleep(2)  # Prevent rate limits\n",
        "except Exception as e:\n",
        "    print(f\"Failed to download {ticker}: {e}\")\n",
        "\n",
        "# ✅ Calculate daily returns\n",
        "btc_data['Return'] = btc_data['Close'].pct_change()\n",
        "\n",
        "# ✅ RSI (Relative Strength Index) calculation function\n",
        "def calculate_rsi(close_prices, window=14):\n",
        "    delta = close_prices.diff()\n",
        "    gain = delta.clip(lower=0)  # Gains (positive changes)\n",
        "    loss = -delta.clip(upper=0)  # Losses (converted to positive)\n",
        "\n",
        "    avg_gain = gain.rolling(window=window, min_periods=1).mean()\n",
        "    avg_loss = loss.rolling(window=window, min_periods=1).mean()\n",
        "\n",
        "    rs = avg_gain / avg_loss\n",
        "    rsi = 100 - (100 / (1 + rs))\n",
        "    return rsi\n",
        "\n",
        "# ✅ Calculate RSI and add it to DataFrame\n",
        "btc_data['RSI'] = calculate_rsi(btc_data['Close'])\n",
        "\n",
        "# Initialize portfolio\n",
        "initial_investment = 2_000_000\n",
        "cash = initial_investment\n",
        "bitcoin = 0\n",
        "portfolio_value = []  # initialize an empty list to store total_value\n",
        "\n",
        "# portfolio over time\n",
        "for i in range(1, len(btc_data)):\n",
        "    rsi = btc_data['RSI'].iloc[i]\n",
        "    btc_price = btc_data['Close'].iloc[i]\n",
        "\n",
        "    # Update portfolio value based on previous day's holdings\n",
        "    cash *= 1 + (0.02 / 365)  # Daily cash interest\n",
        "    bitcoin_value = bitcoin * btc_price\n",
        "    total_value = cash + bitcoin_value\n",
        "    portfolio_value.append(total_value)\n",
        "    # append works in the following way: portfolio_value = []; portfolio_value.append(100)  # Now portfolio_value = [100] ...\n",
        "\n",
        "    # Adjust portfolio based on RSI\n",
        "    if rsi > 70:\n",
        "        # 50% Bitcoin, 50% cash\n",
        "        target_bitcoin_value = total_value * 0.5\n",
        "        target_cash_value = total_value * 0.5\n",
        "    elif rsi < 30:\n",
        "        # 100% Bitcoin\n",
        "        target_bitcoin_value = total_value\n",
        "        target_cash_value = 0\n",
        "    else:\n",
        "        # 100% cash\n",
        "        target_bitcoin_value = 0\n",
        "        target_cash_value = total_value\n",
        "\n",
        "    # Execute trades to rebalance portfolio\n",
        "    bitcoin = target_bitcoin_value / btc_price\n",
        "    cash = target_cash_value\n",
        "\n",
        "# Final portfolio value\n",
        "# ✅ Check if portfolio_value has elements before accessing the last element\n",
        "final_value = portfolio_value[-1].iloc[0] # get the numeric value from the Series\n",
        "print(f\"Final portfolio value on 12/31/2024: ${final_value:,.2f}\")\n"
      ],
      "metadata": {
        "colab": {
          "base_uri": "https://localhost:8080/"
        },
        "id": "hcqQ9XSg4l-F",
        "outputId": "0116a4ce-7895-4329-d749-df27b6cff3f8"
      },
      "execution_count": null,
      "outputs": [
        {
          "output_type": "stream",
          "name": "stderr",
          "text": [
            "\r[*********************100%***********************]  1 of 1 completed"
          ]
        },
        {
          "output_type": "stream",
          "name": "stdout",
          "text": [
            "Downloading data for BTC-USD...\n"
          ]
        },
        {
          "output_type": "stream",
          "name": "stderr",
          "text": [
            "\n"
          ]
        },
        {
          "output_type": "stream",
          "name": "stdout",
          "text": [
            "Final portfolio value on 12/31/2024: $11,825,542.38\n"
          ]
        }
      ]
    }
  ]
}