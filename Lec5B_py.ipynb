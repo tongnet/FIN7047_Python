{
 "cells": [
  {
   "cell_type": "code",
   "execution_count": 2,
   "id": "8102980f",
   "metadata": {},
   "outputs": [
    {
     "name": "stdout",
     "output_type": "stream",
     "text": [
      "Cluster Assignments: [0 0 1]\n",
      "Centroids: [[  1750. 350000.]\n",
      " [  2500. 500000.]]\n",
      "Inertia: 5000125000.0\n"
     ]
    },
    {
     "name": "stderr",
     "output_type": "stream",
     "text": [
      "C:\\Users\\yut3\\Anaconda3\\lib\\site-packages\\sklearn\\cluster\\_kmeans.py:1440: UserWarning: KMeans is known to have a memory leak on Windows with MKL, when there are less chunks than available threads. You can avoid it by setting the environment variable OMP_NUM_THREADS=1.\n",
      "  warnings.warn(\n"
     ]
    }
   ],
   "source": [
    "# K-means clustering k =2 \n",
    "\n",
    "import numpy as np\n",
    "from sklearn.cluster import KMeans\n",
    "\n",
    "# Data points: Houses (size in sq ft, price in dollars)\n",
    "data = np.array([\n",
    "    [1500, 300000],\n",
    "    [2000, 400000],\n",
    "    [2500, 500000]\n",
    "])\n",
    "\n",
    "# Apply KMeans clustering with 2 clusters\n",
    "kmeans = KMeans(n_clusters=2, init=\"k-means++\", n_init=10, random_state=42)\n",
    "kmeans.fit(data)\n",
    "\n",
    "# Output results\n",
    "inertia_custom = kmeans.inertia_\n",
    "labels_custom = kmeans.labels_\n",
    "centroids = kmeans.cluster_centers_\n",
    "\n",
    "print(\"Cluster Assignments:\", labels_custom)\n",
    "print(\"Centroids:\", centroids)\n",
    "print(\"Inertia:\", inertia_custom)"
   ]
  },
  {
   "cell_type": "code",
   "execution_count": 6,
   "id": "26244992",
   "metadata": {},
   "outputs": [
    {
     "name": "stdout",
     "output_type": "stream",
     "text": [
      "Cluster Assignments: [0 0 0]\n",
      "Centroids: [[  2000. 400000.]]\n",
      "Inertia: 20000500000.0\n"
     ]
    },
    {
     "name": "stderr",
     "output_type": "stream",
     "text": [
      "C:\\Users\\yut3\\Anaconda3\\lib\\site-packages\\sklearn\\cluster\\_kmeans.py:1440: UserWarning: KMeans is known to have a memory leak on Windows with MKL, when there are less chunks than available threads. You can avoid it by setting the environment variable OMP_NUM_THREADS=1.\n",
      "  warnings.warn(\n"
     ]
    }
   ],
   "source": [
    "# K-means clustering k =1 \n",
    "\n",
    "import numpy as np\n",
    "from sklearn.cluster import KMeans\n",
    "\n",
    "# Data points: Houses (size in sq ft, price in dollars)\n",
    "data = np.array([\n",
    "    [1500, 300000],\n",
    "    [2000, 400000],\n",
    "    [2500, 500000]\n",
    "])\n",
    "\n",
    "# Apply KMeans clustering with 2 clusters\n",
    "kmeans = KMeans(n_clusters=1, init=\"k-means++\", n_init=10, random_state=42)\n",
    "kmeans.fit(data)\n",
    "\n",
    "# Output results\n",
    "inertia_custom = kmeans.inertia_\n",
    "labels_custom = kmeans.labels_\n",
    "centroids = kmeans.cluster_centers_\n",
    "\n",
    "print(\"Cluster Assignments:\", labels_custom)\n",
    "print(\"Centroids:\", centroids)\n",
    "print(\"Inertia:\", inertia_custom)"
   ]
  },
  {
   "cell_type": "code",
   "execution_count": 7,
   "id": "f84018fb",
   "metadata": {},
   "outputs": [
    {
     "name": "stdout",
     "output_type": "stream",
     "text": [
      "Cluster Assignments: [2 0 1]\n",
      "Centroids: [[  2000. 400000.]\n",
      " [  2500. 500000.]\n",
      " [  1500. 300000.]]\n",
      "Inertia: 0.0\n"
     ]
    },
    {
     "name": "stderr",
     "output_type": "stream",
     "text": [
      "C:\\Users\\yut3\\Anaconda3\\lib\\site-packages\\sklearn\\cluster\\_kmeans.py:1440: UserWarning: KMeans is known to have a memory leak on Windows with MKL, when there are less chunks than available threads. You can avoid it by setting the environment variable OMP_NUM_THREADS=1.\n",
      "  warnings.warn(\n"
     ]
    }
   ],
   "source": [
    "# K-means clustering k =3 \n",
    "\n",
    "import numpy as np\n",
    "from sklearn.cluster import KMeans\n",
    "\n",
    "# Data points: Houses (size in sq ft, price in dollars)\n",
    "data = np.array([\n",
    "    [1500, 300000],\n",
    "    [2000, 400000],\n",
    "    [2500, 500000]\n",
    "])\n",
    "\n",
    "# Apply KMeans clustering with 2 clusters\n",
    "kmeans = KMeans(n_clusters=3, init=\"k-means++\", n_init=10, random_state=42)\n",
    "kmeans.fit(data)\n",
    "\n",
    "# Output results\n",
    "inertia_custom = kmeans.inertia_\n",
    "labels_custom = kmeans.labels_\n",
    "centroids = kmeans.cluster_centers_\n",
    "\n",
    "print(\"Cluster Assignments:\", labels_custom)\n",
    "print(\"Centroids:\", centroids)\n",
    "print(\"Inertia:\", inertia_custom)"
   ]
  },
  {
   "cell_type": "code",
   "execution_count": 8,
   "id": "4a92b8e8",
   "metadata": {},
   "outputs": [
    {
     "name": "stdout",
     "output_type": "stream",
     "text": [
      "Explained Variance Ratio:\n",
      "[0.32430538 0.25675557]\n",
      "\n",
      "First 5 rows of Principal Components:\n",
      "        PC1       PC2\n",
      "0 -1.542507  0.053359\n",
      "1 -0.653925 -0.195025\n",
      "2 -0.906593  0.993512\n",
      "3 -1.801100  1.071565\n",
      "4  0.634357 -0.375091\n",
      "\n",
      "Principal components saved to 'principal_components.csv'\n"
     ]
    }
   ],
   "source": [
    "# PCA\n",
    "\n",
    "import numpy as np\n",
    "import pandas as pd\n",
    "from sklearn.decomposition import PCA\n",
    "from sklearn.preprocessing import StandardScaler\n",
    "\n",
    "# Step 1: Simulate data\n",
    "np.random.seed(42)  # For reproducibility\n",
    "data = pd.DataFrame({\n",
    "    \"Firm Size\": np.random.normal(500, 100, 100),   # firm size\n",
    "    \"Leverage\": np.random.normal(1.5, 0.5, 100),   # Debt-to-equity ratio\n",
    "    \"Profitability\": np.random.normal(10, 2, 100), # Return on assets (ROA)\n",
    "    \"Market-to-Book\": np.random.normal(3, 0.8, 100) # BM ratio\n",
    "})\n",
    "\n",
    "# Step 2: Standardize the data\n",
    "scaler = StandardScaler()\n",
    "scaled_data = scaler.fit_transform(data)\n",
    "\n",
    "# Step 3: Apply PCA\n",
    "pca = PCA(n_components=2) \n",
    "principal_components = pca.fit_transform(scaled_data)\n",
    "\n",
    "# Step 4: Results\n",
    "explained_variance = pca.explained_variance_ratio_\n",
    "principal_df = pd.DataFrame(principal_components, columns=[\"PC1\", \"PC2\"])\n",
    "\n",
    "print(\"Explained Variance Ratio:\")\n",
    "print(explained_variance)\n",
    "print(\"\\nFirst 5 rows of Principal Components:\")\n",
    "print(principal_df.head())\n",
    "\n",
    "# Save principal components to a CSV file\n",
    "principal_df.to_csv(\"principal_components.csv\", index=False)\n",
    "print(\"\\nPrincipal components saved to 'principal_components.csv'\")"
   ]
  },
  {
   "cell_type": "code",
   "execution_count": 9,
   "id": "6018e1fc",
   "metadata": {},
   "outputs": [
    {
     "name": "stdout",
     "output_type": "stream",
     "text": [
      "[*********************100%***********************]  1 of 1 completed\n",
      "[*********************100%***********************]  1 of 1 completed\n"
     ]
    },
    {
     "name": "stderr",
     "output_type": "stream",
     "text": [
      "C:\\Users\\yut3\\Anaconda3\\lib\\site-packages\\sklearn\\cluster\\_kmeans.py:1416: FutureWarning: The default value of `n_init` will change from 10 to 'auto' in 1.4. Set the value of `n_init` explicitly to suppress the warning\n",
      "  super()._check_params_vs_input(X, default_n_init=10)\n"
     ]
    },
    {
     "data": {
      "image/png": "[encoded data removed]",
      "text/plain": [
       "<Figure size 720x432 with 2 Axes>"
      ]
     },
     "metadata": {
      "needs_background": "light"
     },
     "output_type": "display_data"
    }
   ],
   "source": [
    "import pandas as pd\n",
    "import yfinance as yf\n",
    "from sklearn.cluster import KMeans\n",
    "import matplotlib.pyplot as plt\n",
    "from datetime import datetime\n",
    "\n",
    "# Define the time period for analysis\n",
    "start_date = '2020-01-01'\n",
    "end_date = datetime.today().strftime('%Y-%m-%d')\n",
    "\n",
    "# Fetch historical data for Bitcoin and S&P 500\n",
    "btc = yf.download('BTC-USD', start=start_date, end=end_date)\n",
    "sp500 = yf.download('^GSPC', start=start_date, end=end_date)\n",
    "\n",
    "# Calculate daily returns\n",
    "btc['Return'] = btc['Adj Close'].pct_change()\n",
    "sp500['Return'] = sp500['Adj Close'].pct_change()\n",
    "# Combine the returns into a single DataFrame\n",
    "returns = pd.DataFrame({\n",
    "    'BTC_Return': btc['Return'],\n",
    "    'SP500_Return': sp500['Return']\n",
    "}).dropna()\n",
    "\n",
    "# Apply K-Means clustering\n",
    "kmeans = KMeans(n_clusters=3, random_state=42)\n",
    "returns['Cluster'] = kmeans.fit_predict(returns)\n",
    "\n",
    "# Plot the clusters\n",
    "plt.figure(figsize=(10, 6))\n",
    "plt.scatter(returns['BTC_Return'], returns['SP500_Return'], c=returns['Cluster'], cmap='viridis', alpha=0.6)\n",
    "plt.xlabel('Bitcoin Daily Return')\n",
    "plt.ylabel('S&P 500 Daily Return')\n",
    "plt.title('K-Means Clustering of Bitcoin and S&P 500 Daily Returns')\n",
    "plt.colorbar(label='Cluster')\n",
    "plt.grid(True)\n",
    "plt.show()\n"
   ]
  },
  {
   "cell_type": "code",
   "execution_count": null,
   "id": "f826aa48",
   "metadata": {},
   "outputs": [],
   "source": []
  }
 ],
 "metadata": {
  "kernelspec": {
   "display_name": "Python 3",
   "language": "python",
   "name": "python3"
  },
  "language_info": {
   "codemirror_mode": {
    "name": "ipython",
    "version": 3
   },
   "file_extension": ".py",
   "mimetype": "text/x-python",
   "name": "python",
   "nbconvert_exporter": "python",
   "pygments_lexer": "ipython3",
   "version": "3.8.8"
  }
 },
 "nbformat": 4,
 "nbformat_minor": 5
}
