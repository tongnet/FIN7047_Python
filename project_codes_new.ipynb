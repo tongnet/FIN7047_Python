{
  "nbformat": 4,
  "nbformat_minor": 0,
  "metadata": {
    "colab": {
      "provenance": [],
      "mount_file_id": "1pzdRBoJeV_gmPF6CcPxAkVMPOhRqX4lg",
      "authorship_tag": "ABX9TyP17YO8TCqliMVLdHLV8BVx",
      "include_colab_link": true
    },
    "kernelspec": {
      "name": "python3",
      "display_name": "Python 3"
    },
    "language_info": {
      "name": "python"
    }
  },
  "cells": [
    {
      "cell_type": "markdown",
      "metadata": {
        "id": "view-in-github",
        "colab_type": "text"
      },
      "source": [
        "<a href=\"https://colab.research.google.com/github/tongnet/FIN7047_Python/blob/main/project_codes_new.ipynb\" target=\"_parent\"><img src=\"https://colab.research.google.com/assets/colab-badge.svg\" alt=\"Open In Colab\"/></a>"
      ]
    },
    {
      "cell_type": "code",
      "source": [
        "!pip install --upgrade yfinance\n",
        "import yfinance as yf\n",
        "import pandas as pd\n",
        "import numpy as np\n",
        "import time\n",
        "# Define tickers\n",
        "tickers = ['BTC-USD', 'ETH-USD', 'XRP-USD']\n",
        "data = {}\n",
        "for ticker in tickers:\n",
        "    try:\n",
        "        print(f\"Downloading data for {ticker}...\")\n",
        "        df = yf.download(ticker, start='2020-01-01', end='2024-01-01')['Close']\n",
        "        data[ticker] = df\n",
        "        time.sleep(2)  # Add a delay to prevent rate limits\n",
        "    except Exception as e:\n",
        "        print(f\"Failed to download {ticker}: {e}\")\n",
        "# Combine data into a single DataFrame\n",
        "combined_data = pd.concat(data.values(), keys=data.keys(), axis=1)\n",
        "print(combined_data.head())\n",
        "# Save to CSV\n",
        "combined_data.to_csv('crypto_prices.csv')\n",
        "\n",
        "# Define the portfolio assets and initial investment\n",
        "\n",
        "initial_investment = 2000000\n",
        "\n",
        "# Define initial portfolio weights: 50% BTC, 30% ETH, 20% XRP\n",
        "allocations = np.array([0.5, 0.3, 0.2]) * initial_investment\n",
        "\n",
        "# Fetch historical data\n",
        "\n",
        "# Calculate daily returns\n",
        "daily_returns = combined_data.pct_change().dropna()\n",
        "\n",
        "# Compute portfolio daily returns (flexible allocation)\n",
        "weights = allocations / allocations.sum()\n",
        "portfolio_daily_returns = daily_returns @ weights  #The @ operator in Python is the matrix multiplication (dot product) operator\n",
        "\n",
        "# Compute total return\n",
        "initial_prices = combined_data.iloc[0]\n",
        "final_prices = combined_data.iloc[-1]\n",
        "\n",
        "# Compute final portfolio value\n",
        "final_value = (final_prices / initial_prices) * allocations\n",
        "ending_balance = final_value.sum()\n",
        "\n",
        "# Compute average daily return\n",
        "avg_daily_return = portfolio_daily_returns.mean()\n",
        "\n",
        "# Compute annualized standard deviation\n",
        "annual_std_dev = portfolio_daily_returns.std() * np.sqrt(365)\n",
        "\n",
        "# Compute Sharpe Ratio (assuming risk-free rate = 0)\n",
        "sharpe_ratio = avg_daily_return * 365 / annual_std_dev\n",
        "\n",
        "# Print results\n",
        "print(f\"Ending Balance: ${ending_balance:,.2f}\")\n",
        "print(f\"Average Daily Return: {avg_daily_return:.6f}\")\n",
        "print(f\"Annual Standard Deviation: {annual_std_dev:.6f}\")\n",
        "print(f\"Annual Sharpe Ratio: {sharpe_ratio:.2f}\")\n"
      ],
      "metadata": {
        "colab": {
          "base_uri": "https://localhost:8080/"
        },
        "id": "gq4eVqUywfR1",
        "outputId": "d61c7d1d-c362-4359-8f3a-743ad4cf3e94"
      },
      "execution_count": 10,
      "outputs": [
        {
          "output_type": "stream",
          "name": "stdout",
          "text": [
            "Requirement already satisfied: yfinance in /usr/local/lib/python3.11/dist-packages (0.2.54)\n",
            "Requirement already satisfied: pandas>=1.3.0 in /usr/local/lib/python3.11/dist-packages (from yfinance) (2.2.2)\n",
            "Requirement already satisfied: numpy>=1.16.5 in /usr/local/lib/python3.11/dist-packages (from yfinance) (1.26.4)\n",
            "Requirement already satisfied: requests>=2.31 in /usr/local/lib/python3.11/dist-packages (from yfinance) (2.32.3)\n",
            "Requirement already satisfied: multitasking>=0.0.7 in /usr/local/lib/python3.11/dist-packages (from yfinance) (0.0.11)\n",
            "Requirement already satisfied: platformdirs>=2.0.0 in /usr/local/lib/python3.11/dist-packages (from yfinance) (4.3.6)\n",
            "Requirement already satisfied: pytz>=2022.5 in /usr/local/lib/python3.11/dist-packages (from yfinance) (2025.1)\n",
            "Requirement already satisfied: frozendict>=2.3.4 in /usr/local/lib/python3.11/dist-packages (from yfinance) (2.4.6)\n",
            "Requirement already satisfied: peewee>=3.16.2 in /usr/local/lib/python3.11/dist-packages (from yfinance) (3.17.9)\n",
            "Requirement already satisfied: beautifulsoup4>=4.11.1 in /usr/local/lib/python3.11/dist-packages (from yfinance) (4.13.3)\n",
            "Requirement already satisfied: soupsieve>1.2 in /usr/local/lib/python3.11/dist-packages (from beautifulsoup4>=4.11.1->yfinance) (2.6)\n",
            "Requirement already satisfied: typing-extensions>=4.0.0 in /usr/local/lib/python3.11/dist-packages (from beautifulsoup4>=4.11.1->yfinance) (4.12.2)\n",
            "Requirement already satisfied: python-dateutil>=2.8.2 in /usr/local/lib/python3.11/dist-packages (from pandas>=1.3.0->yfinance) (2.8.2)\n",
            "Requirement already satisfied: tzdata>=2022.7 in /usr/local/lib/python3.11/dist-packages (from pandas>=1.3.0->yfinance) (2025.1)\n",
            "Requirement already satisfied: charset-normalizer<4,>=2 in /usr/local/lib/python3.11/dist-packages (from requests>=2.31->yfinance) (3.4.1)\n",
            "Requirement already satisfied: idna<4,>=2.5 in /usr/local/lib/python3.11/dist-packages (from requests>=2.31->yfinance) (3.10)\n",
            "Requirement already satisfied: urllib3<3,>=1.21.1 in /usr/local/lib/python3.11/dist-packages (from requests>=2.31->yfinance) (2.3.0)\n",
            "Requirement already satisfied: certifi>=2017.4.17 in /usr/local/lib/python3.11/dist-packages (from requests>=2.31->yfinance) (2025.1.31)\n",
            "Requirement already satisfied: six>=1.5 in /usr/local/lib/python3.11/dist-packages (from python-dateutil>=2.8.2->pandas>=1.3.0->yfinance) (1.17.0)\n"
          ]
        },
        {
          "output_type": "stream",
          "name": "stderr",
          "text": [
            "\r[*********************100%***********************]  1 of 1 completed"
          ]
        },
        {
          "output_type": "stream",
          "name": "stdout",
          "text": [
            "Downloading data for BTC-USD...\n"
          ]
        },
        {
          "output_type": "stream",
          "name": "stderr",
          "text": [
            "\n",
            "[*********************100%***********************]  1 of 1 completed"
          ]
        },
        {
          "output_type": "stream",
          "name": "stdout",
          "text": [
            "Downloading data for ETH-USD...\n"
          ]
        },
        {
          "output_type": "stream",
          "name": "stderr",
          "text": [
            "\n",
            "[*********************100%***********************]  1 of 1 completed"
          ]
        },
        {
          "output_type": "stream",
          "name": "stdout",
          "text": [
            "Downloading data for XRP-USD...\n"
          ]
        },
        {
          "output_type": "stream",
          "name": "stderr",
          "text": [
            "\n"
          ]
        },
        {
          "output_type": "stream",
          "name": "stdout",
          "text": [
            "                BTC-USD     ETH-USD   XRP-USD\n",
            "Ticker          BTC-USD     ETH-USD   XRP-USD\n",
            "Date                                         \n",
            "2020-01-01  7200.174316  130.802002  0.192667\n",
            "2020-01-02  6985.470215  127.410179  0.188043\n",
            "2020-01-03  7344.884277  134.171707  0.193521\n",
            "2020-01-04  7410.656738  135.069366  0.194355\n",
            "2020-01-05  7411.317383  136.276779  0.195537\n",
            "Ending Balance: $17,612,018.68\n",
            "Average Daily Return: 0.002322\n",
            "Annual Standard Deviation: 0.727100\n",
            "Annual Sharpe Ratio: 1.17\n"
          ]
        }
      ]
    },
    {
      "cell_type": "code",
      "source": [
        "import pandas as pd\n",
        "import numpy as np\n",
        "import yfinance as yf\n",
        "import time\n",
        "\n",
        "# ✅ Download Bitcoin historical data from Yahoo Finance\n",
        "ticker = 'BTC-USD'\n",
        "try:\n",
        "    print(f\"Downloading data for {ticker}...\")\n",
        "    btc_data = yf.download(ticker, start=\"2020-01-01\", end=\"2024-12-31\")[['Close']]  # Keep 'Close' as DataFrame\n",
        "    time.sleep(2)  # Prevent rate limits\n",
        "except Exception as e:\n",
        "    print(f\"Failed to download {ticker}: {e}\")\n",
        "\n",
        "# ✅ Calculate daily returns\n",
        "btc_data['Return'] = btc_data['Close'].pct_change()\n",
        "\n",
        "# ✅ RSI (Relative Strength Index) calculation function\n",
        "def calculate_rsi(close_prices, window=14):\n",
        "    delta = close_prices.diff()\n",
        "    gain = delta.clip(lower=0)  # Gains (positive changes)\n",
        "    loss = -delta.clip(upper=0)  # Losses (converted to positive)\n",
        "\n",
        "    avg_gain = gain.rolling(window=window, min_periods=1).mean()\n",
        "    avg_loss = loss.rolling(window=window, min_periods=1).mean()\n",
        "\n",
        "    rs = avg_gain / avg_loss\n",
        "    rsi = 100 - (100 / (1 + rs))\n",
        "    return rsi\n",
        "\n",
        "# ✅ Calculate RSI and add it to DataFrame\n",
        "btc_data['RSI'] = calculate_rsi(btc_data['Close'])\n",
        "\n",
        "# Initialize portfolio\n",
        "initial_investment = 2_000_000\n",
        "cash = initial_investment\n",
        "bitcoin = 0\n",
        "portfolio_value = []  # initialize an empty list to store total_value\n",
        "\n",
        "# portfolio over time\n",
        "for i in range(1, len(btc_data)):\n",
        "    rsi = btc_data['RSI'].iloc[i]\n",
        "    btc_price = btc_data['Close'].iloc[i]\n",
        "\n",
        "    # Update portfolio value based on previous day's holdings\n",
        "    cash *= 1 + (0.02 / 365)  # Daily cash interest\n",
        "    bitcoin_value = bitcoin * btc_price\n",
        "    total_value = cash + bitcoin_value\n",
        "    portfolio_value.append(total_value)\n",
        "    # append works in the following way: portfolio_value = []; portfolio_value.append(100)  # Now portfolio_value = [100] ...\n",
        "\n",
        "    # Adjust portfolio based on RSI\n",
        "    if rsi > 70:\n",
        "        # 50% Bitcoin, 50% cash\n",
        "        target_bitcoin_value = total_value * 0.5\n",
        "        target_cash_value = total_value * 0.5\n",
        "    elif rsi < 30:\n",
        "        # 100% Bitcoin\n",
        "        target_bitcoin_value = total_value\n",
        "        target_cash_value = 0\n",
        "    else:\n",
        "        # 100% cash\n",
        "        target_bitcoin_value = 0\n",
        "        target_cash_value = total_value\n",
        "\n",
        "    # Execute trades to rebalance portfolio\n",
        "    bitcoin = target_bitcoin_value / btc_price\n",
        "    cash = target_cash_value\n",
        "\n",
        "# Final portfolio value\n",
        "# ✅ Check if portfolio_value has elements before accessing the last element\n",
        "final_value = portfolio_value[-1].iloc[0] # get the numeric value from the Series\n",
        "print(f\"Final portfolio value on 12/31/2024: ${final_value:,.2f}\")\n"
      ],
      "metadata": {
        "colab": {
          "base_uri": "https://localhost:8080/"
        },
        "id": "hcqQ9XSg4l-F",
        "outputId": "0116a4ce-7895-4329-d749-df27b6cff3f8"
      },
      "execution_count": null,
      "outputs": [
        {
          "output_type": "stream",
          "name": "stderr",
          "text": [
            "\r[*********************100%***********************]  1 of 1 completed"
          ]
        },
        {
          "output_type": "stream",
          "name": "stdout",
          "text": [
            "Downloading data for BTC-USD...\n"
          ]
        },
        {
          "output_type": "stream",
          "name": "stderr",
          "text": [
            "\n"
          ]
        },
        {
          "output_type": "stream",
          "name": "stdout",
          "text": [
            "Final portfolio value on 12/31/2024: $11,825,542.38\n"
          ]
        }
      ]
    },
    {
      "cell_type": "code",
      "source": [
        "# sentiment-based investment\n",
        "\n",
        "import pandas as pd\n",
        "import numpy as np\n",
        "import yfinance as yf\n",
        "import time\n",
        "\n",
        "# Define the initial state\n",
        "assets = ['BTC-USD']  # Only Bitcoin is used for this strategy\n",
        "investment_amount = 2000000  # Total investment\n",
        "cash_rate = 0.02  # 2% annual cash return\n",
        "\n",
        "# ✅ Download Bitcoin historical data from Yahoo Finance\n",
        "ticker = 'BTC-USD'\n",
        "try:\n",
        "    print(f\"Downloading data for {ticker}...\")\n",
        "    data = yf.download(ticker, start=\"2020-01-01\", end=\"2024-12-31\")[['Close']]  # Keep 'Close' as DataFrame\n",
        "    time.sleep(2)  # Prevent rate limits\n",
        "except Exception as e:\n",
        "    print(f\"Failed to download {ticker}: {e}\")\n",
        "\n",
        "# Load monthly sentiment index\n",
        "file_path = \"fear_greed_index.csv\"\n",
        "df = pd.read_csv(file_path)\n",
        "df['date'] = pd.to_datetime(df['date'])\n",
        "\n",
        "# Extract year and month\n",
        "df['month'] = df['date'].dt.to_period('M')\n",
        "\n",
        "# Calculate the monthly average sentiment value\n",
        "monthly_sentiment = df.groupby('month')['value'].mean().reset_index()\n",
        "monthly_sentiment.rename(columns={'value': 'monthly_sentiment'}, inplace=True)\n",
        "\n",
        "# Shift the sentiment index to use prior month's value\n",
        "monthly_sentiment['prior_month'] = monthly_sentiment['month'].shift(-1)\n",
        "monthly_sentiment_dict = monthly_sentiment.set_index('prior_month')['monthly_sentiment'].to_dict()\n",
        "\n",
        "# Initialize portfolio\n",
        "portfolio_balance = investment_amount\n",
        "btc_units = 0\n",
        "cash_balance = investment_amount\n",
        "position = None  # None = cash, '50% in', '100% in'\n",
        "portfolio_values = []\n",
        "\n",
        "# Iterate through BTC price data\n",
        "for date, row in data.iterrows():\n",
        "    month = date.to_period('M')\n",
        "    avg_sentiment = monthly_sentiment_dict.get(month, np.nan)  # Retrieve sentiment or NaN if missing\n",
        "    price = row['Close']\n",
        "\n",
        "    if np.isnan(avg_sentiment):  # Skip if no sentiment data for the month\n",
        "        continue\n",
        "\n",
        "    if position is None:\n",
        "        if avg_sentiment < 50:\n",
        "            btc_units = portfolio_balance / price\n",
        "            cash_balance = 0\n",
        "            position = '100% in'\n",
        "        elif avg_sentiment > 50:\n",
        "            btc_units = (portfolio_balance / 2) / price\n",
        "            cash_balance = portfolio_balance / 2\n",
        "            position = '50% in'\n",
        "    else:\n",
        "        if position == '50% in' and avg_sentiment > 80:\n",
        "            position = None  # Move to cash\n",
        "            btc_units = 0\n",
        "            cash_balance = portfolio_balance\n",
        "        elif position == '100% in' and avg_sentiment < 20:\n",
        "            position = None  # Move to cash\n",
        "            btc_units = 0\n",
        "            cash_balance = portfolio_balance\n",
        "        else:\n",
        "            cash_balance *= (1 + cash_rate / 365)  # Daily cash return\n",
        "\n",
        "    # Compute new portfolio balance\n",
        "    portfolio_balance = btc_units * price + cash_balance\n",
        "    portfolio_values.append({'Date': date, 'Portfolio Value': portfolio_balance, 'BTC Units': btc_units, 'Cash Balance': cash_balance})\n",
        "\n",
        "# Convert to DataFrame\n",
        "portfolio_df = pd.DataFrame(portfolio_values)\n",
        "portfolio_df.set_index('Date', inplace=True)\n",
        "\n",
        "# Calculate daily returns\n",
        "portfolio_df['Daily Return'] = portfolio_df['Portfolio Value'].pct_change()\n",
        "\n",
        "# Print the ending portfolio balance\n",
        "ending_balance = portfolio_df.iloc[-1]['Portfolio Value'].squeeze()\n",
        "print(f\"Ending Portfolio Balance: ${ending_balance:,.2f}\")"
      ],
      "metadata": {
        "colab": {
          "base_uri": "https://localhost:8080/"
        },
        "id": "XB7qIch4AzvQ",
        "outputId": "14f29af5-8b1b-4ea1-959d-6a6050ce2fe0"
      },
      "execution_count": 8,
      "outputs": [
        {
          "output_type": "stream",
          "name": "stderr",
          "text": [
            "\r[*********************100%***********************]  1 of 1 completed"
          ]
        },
        {
          "output_type": "stream",
          "name": "stdout",
          "text": [
            "Downloading data for BTC-USD...\n"
          ]
        },
        {
          "output_type": "stream",
          "name": "stderr",
          "text": [
            "\n"
          ]
        },
        {
          "output_type": "stream",
          "name": "stdout",
          "text": [
            "Ending Portfolio Balance: $22,222,469.89\n"
          ]
        }
      ]
    }
  ]
}